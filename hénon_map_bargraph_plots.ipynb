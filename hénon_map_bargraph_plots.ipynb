{
 "cells": [
  {
   "cell_type": "code",
   "execution_count": 1,
   "metadata": {},
   "outputs": [],
   "source": [
    "import numpy as np\n",
    "import pandas as pd\n",
    "import seaborn as sns\n",
    "import yaml\n",
    "\n",
    "from pathlib import Path\n",
    "\n",
    "from matplotlib import pyplot as plt\n",
    "import torch\n",
    "from torch import nn\n",
    "from torch.utils.data import DataLoader\n",
    "from torchvision import transforms\n",
    "import pytorch_lightning as pl\n",
    "import torch.nn.functional as F\n",
    "import torchmetrics\n",
    "\n",
    "import jax\n",
    "import jax.numpy as jnp\n",
    "from jax import jit\n",
    "\n",
    "from pytorch_lightning.strategies import DDPStrategy\n",
    "\n",
    "from paper_utils import LightningResNet18\n",
    "\n",
    "import configparser\n",
    "from paper_utils import HenonMapPoincareDataModule"
   ]
  },
  {
   "cell_type": "code",
   "execution_count": 2,
   "metadata": {},
   "outputs": [],
   "source": [
    "isBool = lambda x: x.lower() == \"true\"\n",
    "converters = {'IntList': lambda x: [int(i.strip()) for i in x.strip(\" [](){}\").split(',')],\n",
    "    'FloatList': lambda x: [float(i.strip()) for i in x.strip(\" [](){}\").split(',')],\n",
    "    'BoolList': lambda x: [isBool(i.strip()) for i in x.strip(\" [](){}\").split(',')]}\n",
    "config = configparser.ConfigParser(converters=converters)"
   ]
  },
  {
   "cell_type": "code",
   "execution_count": 3,
   "metadata": {},
   "outputs": [
    {
     "name": "stdout",
     "output_type": "stream",
     "text": [
      "coords=[0, 1]\n"
     ]
    }
   ],
   "source": [
    "config.read(\"./configs/model_training/henon_map_study.cfg\")\n",
    "# LOGGING params\n",
    "# -------------------------------------------------------\n",
    "log_dir = config.get('LOGGING', 'log_dir')\n",
    "name = config.get('LOGGING', 'name')\n",
    "# -------------------------------------------------------\n",
    "# HARDWARE params  \n",
    "# -------------------------------------------------------  \n",
    "num_workers = config.getint('HARDWARE', 'num_workers')\n",
    "auto_select_gpus = config.getboolean('HARDWARE', 'auto_select_gpus')\n",
    "num_gpus = config.getint('HARDWARE', 'num_gpus')\n",
    "\n",
    "if auto_select_gpus==True:\n",
    "    devices = num_gpus\n",
    "else:\n",
    "    devices = config.getIntList(\"HARDWARE\", \"devices\")\n",
    "if devices > 1:\n",
    "    num_workers = 0\n",
    "    strategy = DDPStrategy(find_unused_parameters=False)\n",
    "else:\n",
    "    num_workers = num_workers\n",
    "    strategy = None\n",
    "# -------------------------------------------------------\n",
    "# DATAMODULE params\n",
    "# -------------------------------------------------------\n",
    "randomize_flags = config.getBoolList('DATAMODULE', 'randomize')\n",
    "if \"num_train_samples\" in config['DATAMODULE']:\n",
    "    # setting total samples according to 80:20 train/test and train+val/test ratios\n",
    "    num_sample_list = [int(num / .64) for num in config.getIntList('DATAMODULE', 'num_train_samples')]\n",
    "    if \"num_samples\" in config['DATAMODULE']:\n",
    "        print(\"WARNING: num_samples and num_train_samples both specified in config. num_samples will be ignored\")\n",
    "else:\n",
    "    num_sample_list = config.getFloatList('DATAMODULE', 'num_samples')\n",
    "batch_size = config.getint('DATAMODULE', 'batch_size')\n",
    "img_widths = config.getIntList('DATAMODULE', 'img_width')\n",
    "alpha = config.getfloat('DATAMODULE', 'alpha')\n",
    "min_samples = config.getint('DATAMODULE', 'min_samples', fallback=0)\n",
    "max_samples = config.getint('DATAMODULE', 'max_samples', fallback=-1)\n",
    "min_traj_len = config.getint('DATAMODULE', 'min_traj_len')\n",
    "max_traj_len = config.getint('DATAMODULE', 'max_traj_len')\n",
    "num_params = config.getint('DATAMODULE', 'num_params')\n",
    "a_range = config.getFloatList('DATAMODULE', 'a_range')\n",
    "b_range = config.getFloatList('DATAMODULE', 'b_range')\n",
    "\n",
    "coords = config.getIntList('DATAMODULE', 'coords', fallback=[0,1])\n",
    "print(f\"{coords=}\")\n",
    "x_range = config.getFloatList('DATAMODULE', 'x_range', fallback=None)\n",
    "y_range = config.getFloatList('DATAMODULE', 'y_range', fallback=None)"
   ]
  },
  {
   "cell_type": "code",
   "execution_count": 5,
   "metadata": {},
   "outputs": [
    {
     "name": "stderr",
     "output_type": "stream",
     "text": [
      "Auto select gpus: [0]\n",
      "GPU available: True (cuda), used: True\n",
      "TPU available: False, using: 0 TPU cores\n",
      "IPU available: False, using: 0 IPUs\n",
      "HPU available: False, using: 0 HPUs\n"
     ]
    }
   ],
   "source": [
    "trainer = pl.Trainer(\n",
    "    logger=False,\n",
    "    accelerator='gpu',\n",
    "    devices=devices,\n",
    "    num_sanity_val_steps=0,\n",
    "    deterministic=True,\n",
    "    auto_select_gpus=auto_select_gpus,\n",
    "    enable_progress_bar=False\n",
    ")\n",
    "\n",
    "assert(len(img_widths) == 1)\n",
    "\n",
    "np.random.seed(42)\n",
    "torch.manual_seed(42)\n",
    "\n",
    "aug_datamodule = HenonMapPoincareDataModule(\n",
    "                    num_samples=3200,\n",
    "                    batch_size=32, \n",
    "                    a_range=a_range,\n",
    "                    b_range=b_range,\n",
    "                    x_range=x_range,\n",
    "                    y_range=y_range,\n",
    "                    img_width=img_widths[0],\n",
    "                    alpha=alpha,\n",
    "                    min_samples=min_samples,\n",
    "                    max_samples=max_samples,\n",
    "                    min_traj_len=min_traj_len,\n",
    "                    num_iters=max_traj_len,\n",
    "                    num_workers=num_workers,\n",
    "                    verbose=False,\n",
    "                    randomize=True)\n",
    "\n",
    "np.random.seed(42)\n",
    "torch.manual_seed(42)\n",
    "                    \n",
    "non_aug_datamodule = HenonMapPoincareDataModule(\n",
    "                num_samples=3200,\n",
    "                batch_size=32, \n",
    "                a_range=a_range,\n",
    "                b_range=b_range,\n",
    "                x_range=x_range,\n",
    "                y_range=y_range,\n",
    "                img_width=img_widths[0],\n",
    "                alpha=alpha,\n",
    "                min_samples=min_samples,\n",
    "                max_samples=max_samples,\n",
    "                min_traj_len=min_traj_len,\n",
    "                num_iters=max_traj_len,\n",
    "                num_workers=num_workers,\n",
    "                verbose=False,\n",
    "                randomize=False)"
   ]
  },
  {
   "cell_type": "code",
   "execution_count": 6,
   "metadata": {},
   "outputs": [
    {
     "name": "stdout",
     "output_type": "stream",
     "text": [
      "henon_map_num_samples_1600\n",
      "num_train=1024, randomized=False\n",
      "model_ckpt.name='epoch=705-val_mse=4.92e-01_randomized_False.ckpt'\n"
     ]
    },
    {
     "name": "stderr",
     "output_type": "stream",
     "text": [
      "/home/connorsteph/miniconda3/envs/DL_PSI_env/lib/python3.10/site-packages/torchvision/models/_utils.py:223: UserWarning: Arguments other than a weight enum or `None` for 'weights' are deprecated since 0.13 and may be removed in the future. The current behavior is equivalent to passing `weights=None`.\n",
      "  warnings.warn(msg)\n",
      "LOCAL_RANK: 0 - CUDA_VISIBLE_DEVICES: [0,1,2,3,4,5,6,7,8,9]\n"
     ]
    },
    {
     "name": "stdout",
     "output_type": "stream",
     "text": [
      "model_ckpt.name='epoch=768-val_mse=4.29e-01_randomized_False.ckpt'\n"
     ]
    },
    {
     "name": "stderr",
     "output_type": "stream",
     "text": [
      "LOCAL_RANK: 0 - CUDA_VISIBLE_DEVICES: [0,1,2,3,4,5,6,7,8,9]\n"
     ]
    },
    {
     "name": "stdout",
     "output_type": "stream",
     "text": [
      "model_ckpt.name='epoch=548-val_mse=4.06e-01_randomized_False.ckpt'\n"
     ]
    },
    {
     "name": "stderr",
     "output_type": "stream",
     "text": [
      "LOCAL_RANK: 0 - CUDA_VISIBLE_DEVICES: [0,1,2,3,4,5,6,7,8,9]\n"
     ]
    },
    {
     "name": "stdout",
     "output_type": "stream",
     "text": [
      "henon_map_num_samples_1600\n",
      "num_train=1024, randomized=True\n",
      "model_ckpt.name='epoch=751-val_mse=4.78e-02_randomized_True.ckpt'\n"
     ]
    },
    {
     "name": "stderr",
     "output_type": "stream",
     "text": [
      "LOCAL_RANK: 0 - CUDA_VISIBLE_DEVICES: [0,1,2,3,4,5,6,7,8,9]\n"
     ]
    },
    {
     "name": "stdout",
     "output_type": "stream",
     "text": [
      "model_ckpt.name='epoch=722-val_mse=5.50e-02_randomized_True.ckpt'\n"
     ]
    },
    {
     "name": "stderr",
     "output_type": "stream",
     "text": [
      "LOCAL_RANK: 0 - CUDA_VISIBLE_DEVICES: [0,1,2,3,4,5,6,7,8,9]\n"
     ]
    },
    {
     "name": "stdout",
     "output_type": "stream",
     "text": [
      "model_ckpt.name='epoch=768-val_mse=5.88e-02_randomized_True.ckpt'\n"
     ]
    },
    {
     "name": "stderr",
     "output_type": "stream",
     "text": [
      "LOCAL_RANK: 0 - CUDA_VISIBLE_DEVICES: [0,1,2,3,4,5,6,7,8,9]\n"
     ]
    },
    {
     "name": "stdout",
     "output_type": "stream",
     "text": [
      "henon_map_num_samples_800\n",
      "num_train=501, randomized=False\n",
      "model_ckpt.name='epoch=1542-val_mse=6.78e-01_randomized_False.ckpt'\n"
     ]
    },
    {
     "name": "stderr",
     "output_type": "stream",
     "text": [
      "LOCAL_RANK: 0 - CUDA_VISIBLE_DEVICES: [0,1,2,3,4,5,6,7,8,9]\n"
     ]
    },
    {
     "name": "stdout",
     "output_type": "stream",
     "text": [
      "model_ckpt.name='epoch=1163-val_mse=7.18e-01_randomized_False.ckpt'\n"
     ]
    },
    {
     "name": "stderr",
     "output_type": "stream",
     "text": [
      "LOCAL_RANK: 0 - CUDA_VISIBLE_DEVICES: [0,1,2,3,4,5,6,7,8,9]\n"
     ]
    },
    {
     "name": "stdout",
     "output_type": "stream",
     "text": [
      "model_ckpt.name='epoch=1078-val_mse=8.41e-01_randomized_False.ckpt'\n"
     ]
    },
    {
     "name": "stderr",
     "output_type": "stream",
     "text": [
      "LOCAL_RANK: 0 - CUDA_VISIBLE_DEVICES: [0,1,2,3,4,5,6,7,8,9]\n"
     ]
    },
    {
     "name": "stdout",
     "output_type": "stream",
     "text": [
      "henon_map_num_samples_800\n",
      "num_train=501, randomized=True\n",
      "model_ckpt.name='epoch=1554-val_mse=8.26e-02_randomized_True.ckpt'\n"
     ]
    },
    {
     "name": "stderr",
     "output_type": "stream",
     "text": [
      "LOCAL_RANK: 0 - CUDA_VISIBLE_DEVICES: [0,1,2,3,4,5,6,7,8,9]\n"
     ]
    },
    {
     "name": "stdout",
     "output_type": "stream",
     "text": [
      "model_ckpt.name='epoch=1529-val_mse=7.23e-02_randomized_True.ckpt'\n"
     ]
    },
    {
     "name": "stderr",
     "output_type": "stream",
     "text": [
      "LOCAL_RANK: 0 - CUDA_VISIBLE_DEVICES: [0,1,2,3,4,5,6,7,8,9]\n"
     ]
    },
    {
     "name": "stdout",
     "output_type": "stream",
     "text": [
      "model_ckpt.name='epoch=1331-val_mse=6.17e-02_randomized_True.ckpt'\n"
     ]
    },
    {
     "name": "stderr",
     "output_type": "stream",
     "text": [
      "LOCAL_RANK: 0 - CUDA_VISIBLE_DEVICES: [0,1,2,3,4,5,6,7,8,9]\n"
     ]
    },
    {
     "name": "stdout",
     "output_type": "stream",
     "text": [
      "henon_map_num_samples_400\n",
      "num_train=256, randomized=False\n",
      "model_ckpt.name='epoch=2761-val_mse=8.42e-01_randomized_False.ckpt'\n"
     ]
    },
    {
     "name": "stderr",
     "output_type": "stream",
     "text": [
      "LOCAL_RANK: 0 - CUDA_VISIBLE_DEVICES: [0,1,2,3,4,5,6,7,8,9]\n"
     ]
    },
    {
     "name": "stdout",
     "output_type": "stream",
     "text": [
      "model_ckpt.name='epoch=1697-val_mse=8.68e-01_randomized_False.ckpt'\n"
     ]
    },
    {
     "name": "stderr",
     "output_type": "stream",
     "text": [
      "LOCAL_RANK: 0 - CUDA_VISIBLE_DEVICES: [0,1,2,3,4,5,6,7,8,9]\n"
     ]
    },
    {
     "name": "stdout",
     "output_type": "stream",
     "text": [
      "model_ckpt.name='epoch=2758-val_mse=1.18e+00_randomized_False.ckpt'\n"
     ]
    },
    {
     "name": "stderr",
     "output_type": "stream",
     "text": [
      "LOCAL_RANK: 0 - CUDA_VISIBLE_DEVICES: [0,1,2,3,4,5,6,7,8,9]\n"
     ]
    },
    {
     "name": "stdout",
     "output_type": "stream",
     "text": [
      "henon_map_num_samples_400\n",
      "num_train=256, randomized=True\n",
      "model_ckpt.name='epoch=1782-val_mse=9.19e-02_randomized_True.ckpt'\n"
     ]
    },
    {
     "name": "stderr",
     "output_type": "stream",
     "text": [
      "LOCAL_RANK: 0 - CUDA_VISIBLE_DEVICES: [0,1,2,3,4,5,6,7,8,9]\n"
     ]
    },
    {
     "name": "stdout",
     "output_type": "stream",
     "text": [
      "model_ckpt.name='epoch=3062-val_mse=9.43e-02_randomized_True.ckpt'\n"
     ]
    },
    {
     "name": "stderr",
     "output_type": "stream",
     "text": [
      "LOCAL_RANK: 0 - CUDA_VISIBLE_DEVICES: [0,1,2,3,4,5,6,7,8,9]\n"
     ]
    },
    {
     "name": "stdout",
     "output_type": "stream",
     "text": [
      "model_ckpt.name='epoch=2580-val_mse=9.83e-02_randomized_True.ckpt'\n"
     ]
    },
    {
     "name": "stderr",
     "output_type": "stream",
     "text": [
      "LOCAL_RANK: 0 - CUDA_VISIBLE_DEVICES: [0,1,2,3,4,5,6,7,8,9]\n"
     ]
    },
    {
     "name": "stdout",
     "output_type": "stream",
     "text": [
      "henon_map_num_samples_3200\n",
      "num_train=2079, randomized=False\n",
      "model_ckpt.name='epoch=256-val_mse=8.36e-02_randomized_False.ckpt'\n"
     ]
    },
    {
     "name": "stderr",
     "output_type": "stream",
     "text": [
      "LOCAL_RANK: 0 - CUDA_VISIBLE_DEVICES: [0,1,2,3,4,5,6,7,8,9]\n"
     ]
    },
    {
     "name": "stdout",
     "output_type": "stream",
     "text": [
      "model_ckpt.name='epoch=276-val_mse=1.33e-01_randomized_False.ckpt'\n"
     ]
    },
    {
     "name": "stderr",
     "output_type": "stream",
     "text": [
      "LOCAL_RANK: 0 - CUDA_VISIBLE_DEVICES: [0,1,2,3,4,5,6,7,8,9]\n"
     ]
    },
    {
     "name": "stdout",
     "output_type": "stream",
     "text": [
      "model_ckpt.name='epoch=322-val_mse=1.12e-01_randomized_False.ckpt'\n"
     ]
    },
    {
     "name": "stderr",
     "output_type": "stream",
     "text": [
      "LOCAL_RANK: 0 - CUDA_VISIBLE_DEVICES: [0,1,2,3,4,5,6,7,8,9]\n"
     ]
    },
    {
     "name": "stdout",
     "output_type": "stream",
     "text": [
      "henon_map_num_samples_3200\n",
      "num_train=2079, randomized=True\n",
      "model_ckpt.name='epoch=374-val_mse=4.44e-02_randomized_True.ckpt'\n"
     ]
    },
    {
     "name": "stderr",
     "output_type": "stream",
     "text": [
      "LOCAL_RANK: 0 - CUDA_VISIBLE_DEVICES: [0,1,2,3,4,5,6,7,8,9]\n"
     ]
    },
    {
     "name": "stdout",
     "output_type": "stream",
     "text": [
      "model_ckpt.name='epoch=362-val_mse=4.29e-02_randomized_True.ckpt'\n"
     ]
    },
    {
     "name": "stderr",
     "output_type": "stream",
     "text": [
      "LOCAL_RANK: 0 - CUDA_VISIBLE_DEVICES: [0,1,2,3,4,5,6,7,8,9]\n"
     ]
    },
    {
     "name": "stdout",
     "output_type": "stream",
     "text": [
      "model_ckpt.name='epoch=339-val_mse=4.03e-02_randomized_True.ckpt'\n"
     ]
    },
    {
     "name": "stderr",
     "output_type": "stream",
     "text": [
      "LOCAL_RANK: 0 - CUDA_VISIBLE_DEVICES: [0,1,2,3,4,5,6,7,8,9]\n"
     ]
    },
    {
     "name": "stdout",
     "output_type": "stream",
     "text": [
      "henon_map_num_samples_6400\n",
      "num_train=4096, randomized=False\n",
      "model_ckpt.name='epoch=189-val_mse=2.75e-02_randomized_False.ckpt'\n"
     ]
    },
    {
     "name": "stderr",
     "output_type": "stream",
     "text": [
      "LOCAL_RANK: 0 - CUDA_VISIBLE_DEVICES: [0,1,2,3,4,5,6,7,8,9]\n"
     ]
    },
    {
     "name": "stdout",
     "output_type": "stream",
     "text": [
      "model_ckpt.name='epoch=176-val_mse=3.57e-02_randomized_False.ckpt'\n"
     ]
    },
    {
     "name": "stderr",
     "output_type": "stream",
     "text": [
      "LOCAL_RANK: 0 - CUDA_VISIBLE_DEVICES: [0,1,2,3,4,5,6,7,8,9]\n"
     ]
    },
    {
     "name": "stdout",
     "output_type": "stream",
     "text": [
      "model_ckpt.name='epoch=164-val_mse=3.28e-02_randomized_False.ckpt'\n"
     ]
    },
    {
     "name": "stderr",
     "output_type": "stream",
     "text": [
      "LOCAL_RANK: 0 - CUDA_VISIBLE_DEVICES: [0,1,2,3,4,5,6,7,8,9]\n"
     ]
    },
    {
     "name": "stdout",
     "output_type": "stream",
     "text": [
      "henon_map_num_samples_6400\n",
      "num_train=4096, randomized=True\n",
      "model_ckpt.name='epoch=188-val_mse=5.22e-02_randomized_True.ckpt'\n"
     ]
    },
    {
     "name": "stderr",
     "output_type": "stream",
     "text": [
      "LOCAL_RANK: 0 - CUDA_VISIBLE_DEVICES: [0,1,2,3,4,5,6,7,8,9]\n"
     ]
    },
    {
     "name": "stdout",
     "output_type": "stream",
     "text": [
      "model_ckpt.name='epoch=169-val_mse=5.38e-02_randomized_True.ckpt'\n"
     ]
    },
    {
     "name": "stderr",
     "output_type": "stream",
     "text": [
      "LOCAL_RANK: 0 - CUDA_VISIBLE_DEVICES: [0,1,2,3,4,5,6,7,8,9]\n"
     ]
    },
    {
     "name": "stdout",
     "output_type": "stream",
     "text": [
      "model_ckpt.name='epoch=181-val_mse=4.41e-02_randomized_True.ckpt'\n"
     ]
    },
    {
     "name": "stderr",
     "output_type": "stream",
     "text": [
      "LOCAL_RANK: 0 - CUDA_VISIBLE_DEVICES: [0,1,2,3,4,5,6,7,8,9]\n"
     ]
    },
    {
     "name": "stdout",
     "output_type": "stream",
     "text": [
      "henon_map_num_samples_200\n",
      "num_train=125, randomized=False\n",
      "model_ckpt.name='epoch=3531-val_mse=2.23e+00_randomized_False.ckpt'\n"
     ]
    },
    {
     "name": "stderr",
     "output_type": "stream",
     "text": [
      "LOCAL_RANK: 0 - CUDA_VISIBLE_DEVICES: [0,1,2,3,4,5,6,7,8,9]\n"
     ]
    },
    {
     "name": "stdout",
     "output_type": "stream",
     "text": [
      "model_ckpt.name='epoch=1316-val_mse=2.46e+00_randomized_False.ckpt'\n"
     ]
    },
    {
     "name": "stderr",
     "output_type": "stream",
     "text": [
      "LOCAL_RANK: 0 - CUDA_VISIBLE_DEVICES: [0,1,2,3,4,5,6,7,8,9]\n"
     ]
    },
    {
     "name": "stdout",
     "output_type": "stream",
     "text": [
      "model_ckpt.name='epoch=3806-val_mse=2.48e+00_randomized_False.ckpt'\n"
     ]
    },
    {
     "name": "stderr",
     "output_type": "stream",
     "text": [
      "LOCAL_RANK: 0 - CUDA_VISIBLE_DEVICES: [0,1,2,3,4,5,6,7,8,9]\n"
     ]
    },
    {
     "name": "stdout",
     "output_type": "stream",
     "text": [
      "henon_map_num_samples_200\n",
      "num_train=125, randomized=True\n",
      "model_ckpt.name='epoch=4861-val_mse=1.42e-01_randomized_True.ckpt'\n"
     ]
    },
    {
     "name": "stderr",
     "output_type": "stream",
     "text": [
      "LOCAL_RANK: 0 - CUDA_VISIBLE_DEVICES: [0,1,2,3,4,5,6,7,8,9]\n"
     ]
    },
    {
     "name": "stdout",
     "output_type": "stream",
     "text": [
      "model_ckpt.name='epoch=4112-val_mse=1.64e-01_randomized_True.ckpt'\n"
     ]
    },
    {
     "name": "stderr",
     "output_type": "stream",
     "text": [
      "LOCAL_RANK: 0 - CUDA_VISIBLE_DEVICES: [0,1,2,3,4,5,6,7,8,9]\n"
     ]
    },
    {
     "name": "stdout",
     "output_type": "stream",
     "text": [
      "model_ckpt.name='epoch=5533-val_mse=1.76e-01_randomized_True.ckpt'\n"
     ]
    },
    {
     "name": "stderr",
     "output_type": "stream",
     "text": [
      "LOCAL_RANK: 0 - CUDA_VISIBLE_DEVICES: [0,1,2,3,4,5,6,7,8,9]\n"
     ]
    }
   ],
   "source": [
    "df_list = []\n",
    "p = Path(log_dir)\n",
    "for i in p.rglob('*version_0/'):\n",
    "    print(i.parent.name)\n",
    "    hparam_dict = yaml.safe_load(open(i / 'hparams.yaml'))\n",
    "    num_train = hparam_dict['num_train']\n",
    "    randomized = hparam_dict['randomize']\n",
    "    print(f\"{num_train=}, {randomized=}\")\n",
    "    for child in i.parent.iterdir():\n",
    "        if child.is_dir():\n",
    "            for j in child.iterdir():\n",
    "                if j.is_dir():\n",
    "                    for model_ckpt in j.iterdir():\n",
    "                        print(f\"{model_ckpt.name=}\")\n",
    "                        model = LightningResNet18.load_from_checkpoint(model_ckpt.resolve())\n",
    "                        datamodule = aug_datamodule if randomized else non_aug_datamodule\n",
    "                        test_loss = trainer.test(model=model, dataloaders=datamodule.test_dataloader(), verbose=False)[0][\"val_mse\"]\n",
    "                        df_list.append({\"loss\": test_loss, \"num_train\": num_train, \"Train Augmentation\": randomized})\n",
    "henon_df = pd.DataFrame(df_list)"
   ]
  },
  {
   "cell_type": "code",
   "execution_count": 7,
   "metadata": {},
   "outputs": [
    {
     "data": {
      "text/plain": [
       "Text(0, 0.5, 'Test MSE')"
      ]
     },
     "execution_count": 7,
     "metadata": {},
     "output_type": "execute_result"
    },
    {
     "data": {
      "image/png": "[encoded data removed]",
      "text/plain": [
       "<Figure size 1000x500 with 1 Axes>"
      ]
     },
     "metadata": {},
     "output_type": "display_data"
    }
   ],
   "source": [
    "sns.set_theme(context=\"paper\", style=\"ticks\", font_scale=1.5)\n",
    "fig, ax = plt.subplots(1,1, figsize=(10,5))\n",
    "ax.set_yscale(\"log\")\n",
    "# df = pd.read_csv(\"sample_efficiency_trials.csv\")\n",
    "sns.barplot(data=henon_df, x=\"num_train\", y=\"loss\", hue=\"Train Augmentation\")\n",
    "\n",
    "ax.set_xlabel(\"Training Samples\")\n",
    "ax.set_ylabel(f\"Test MSE\")\n",
    "# plt.savefig(\"efficiency_study_test_MSE.pdf\", bbox_inches=\"tight\")"
   ]
  },
  {
   "cell_type": "code",
   "execution_count": null,
   "metadata": {},
   "outputs": [],
   "source": []
  }
 ],
 "metadata": {
  "kernelspec": {
   "display_name": "DL_PSI_env",
   "language": "python",
   "name": "python3"
  },
  "language_info": {
   "codemirror_mode": {
    "name": "ipython",
    "version": 3
   },
   "file_extension": ".py",
   "mimetype": "text/x-python",
   "name": "python",
   "nbconvert_exporter": "python",
   "pygments_lexer": "ipython3",
   "version": "3.10.9"
  },
  "orig_nbformat": 4
 },
 "nbformat": 4,
 "nbformat_minor": 2
}
