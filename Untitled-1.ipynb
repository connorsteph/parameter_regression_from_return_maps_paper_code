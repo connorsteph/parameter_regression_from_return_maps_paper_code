{
 "cells": [
  {
   "cell_type": "code",
   "execution_count": 4,
   "metadata": {},
   "outputs": [
    {
     "ename": "TypeError",
     "evalue": "read_csv() got an unexpected keyword argument 'dim_pts'",
     "output_type": "error",
     "traceback": [
      "\u001b[0;31m---------------------------------------------------------------------------\u001b[0m",
      "\u001b[0;31mTypeError\u001b[0m                                 Traceback (most recent call last)",
      "Cell \u001b[0;32mIn[4], line 14\u001b[0m\n\u001b[1;32m      7\u001b[0m NPZ_FILE_DIR \u001b[39m=\u001b[39m \u001b[39m'\u001b[39m\u001b[39m/scratch-a/connorsteph/paper_repo_demo/datasets/SAM/npz_files\u001b[39m\u001b[39m'\u001b[39m\n\u001b[1;32m      9\u001b[0m \u001b[39m# we have a look table (LOOKUP_FILE.csv) in DATA_DIR\u001b[39;00m\n\u001b[1;32m     10\u001b[0m \u001b[39m# we're going to organize .npz files in DATA_DIR into subdirectories, based on the value of dim_pts\u001b[39;00m\n\u001b[1;32m     11\u001b[0m \u001b[39m# LOOKUP_FILE.csv also contains corresponding .npz filenames, which we'll use to match up the .npz files with the dim_pts values\u001b[39;00m\n\u001b[1;32m     12\u001b[0m \u001b[39m# and move the .npz files into the appropriate subdirectory\u001b[39;00m\n\u001b[0;32m---> 14\u001b[0m lookup_df \u001b[39m=\u001b[39m pd\u001b[39m.\u001b[39;49mread_csv(os\u001b[39m.\u001b[39;49mpath\u001b[39m.\u001b[39;49mjoin(DATA_DIR, LOOKUP_FNAME), dim_pts\u001b[39m=\u001b[39;49m\u001b[39m12\u001b[39;49m)\n\u001b[1;32m     18\u001b[0m \u001b[39m# use the lookup table to create a list of unique dim_pts values\u001b[39;00m\n\u001b[1;32m     19\u001b[0m unique_dim_pts \u001b[39m=\u001b[39m lookup_df[\u001b[39m'\u001b[39m\u001b[39mdim_pts\u001b[39m\u001b[39m'\u001b[39m]\u001b[39m.\u001b[39munique()\n",
      "File \u001b[0;32m~/miniconda3/envs/DL_PSI_env/lib/python3.10/site-packages/pandas/util/_decorators.py:211\u001b[0m, in \u001b[0;36mdeprecate_kwarg.<locals>._deprecate_kwarg.<locals>.wrapper\u001b[0;34m(*args, **kwargs)\u001b[0m\n\u001b[1;32m    209\u001b[0m     \u001b[39melse\u001b[39;00m:\n\u001b[1;32m    210\u001b[0m         kwargs[new_arg_name] \u001b[39m=\u001b[39m new_arg_value\n\u001b[0;32m--> 211\u001b[0m \u001b[39mreturn\u001b[39;00m func(\u001b[39m*\u001b[39;49margs, \u001b[39m*\u001b[39;49m\u001b[39m*\u001b[39;49mkwargs)\n",
      "File \u001b[0;32m~/miniconda3/envs/DL_PSI_env/lib/python3.10/site-packages/pandas/util/_decorators.py:331\u001b[0m, in \u001b[0;36mdeprecate_nonkeyword_arguments.<locals>.decorate.<locals>.wrapper\u001b[0;34m(*args, **kwargs)\u001b[0m\n\u001b[1;32m    325\u001b[0m \u001b[39mif\u001b[39;00m \u001b[39mlen\u001b[39m(args) \u001b[39m>\u001b[39m num_allow_args:\n\u001b[1;32m    326\u001b[0m     warnings\u001b[39m.\u001b[39mwarn(\n\u001b[1;32m    327\u001b[0m         msg\u001b[39m.\u001b[39mformat(arguments\u001b[39m=\u001b[39m_format_argument_list(allow_args)),\n\u001b[1;32m    328\u001b[0m         \u001b[39mFutureWarning\u001b[39;00m,\n\u001b[1;32m    329\u001b[0m         stacklevel\u001b[39m=\u001b[39mfind_stack_level(),\n\u001b[1;32m    330\u001b[0m     )\n\u001b[0;32m--> 331\u001b[0m \u001b[39mreturn\u001b[39;00m func(\u001b[39m*\u001b[39;49margs, \u001b[39m*\u001b[39;49m\u001b[39m*\u001b[39;49mkwargs)\n",
      "\u001b[0;31mTypeError\u001b[0m: read_csv() got an unexpected keyword argument 'dim_pts'"
     ]
    }
   ],
   "source": [
    "import os\n",
    "\n",
    "import pandas as pd\n",
    "\n",
    "DATA_DIR = '/scratch-a/connorsteph/paper_repo_demo/datasets/SAM'\n",
    "LOOKUP_FNAME = 'main_lookup.csv'\n",
    "NPZ_FILE_DIR = '/scratch-a/connorsteph/paper_repo_demo/datasets/SAM/npz_files'\n",
    "\n",
    "# we have a look table (LOOKUP_FILE.csv) in DATA_DIR\n",
    "# we're going to organize .npz files in DATA_DIR into subdirectories, based on the value of dim_pts\n",
    "# LOOKUP_FILE.csv also contains corresponding .npz filenames, which we'll use to match up the .npz files with the dim_pts values\n",
    "# and move the .npz files into the appropriate subdirectory\n",
    "\n",
    "# only load rows where dim_pts < 100\n",
    "lookup_df = pd.read_csv(os.path.join(DATA_DIR, LOOKUP_FNAME))\n",
    "lookup_df = lookup_df[lookup_df['dim_pts'] < 100]\n",
    "\n",
    "\n",
    "\n",
    "# use the lookup table to create a list of unique dim_pts values\n",
    "unique_dim_pts = lookup_df['dim_pts'].unique()\n",
    "print(unique_dim_pts)\n",
    "\n",
    "# # create a data directory for each unique dim_pts value using os\n",
    "# for dim_pts in unique_dim_pts:\n",
    "#     subdir = os.path.join(NPZ_FILE_DIR, \"npz_files_\" + \"_dim_pts_\" + str(dim_pts))\n",
    "#     # mkdir if it doesn't exist, otherwise do nothing\n",
    "#     os.makedirs(subdir, exist_ok=True)\n",
    "#     # move the .npz files into the appropriate subdirectory\n",
    "#     for filename in lookup_df[lookup_df['dim_pts'] == dim_pts]['fname']:\n",
    "#         # if the file doesn't exist, skip it\n",
    "#         if not os.path.exists(os.path.join(NPZ_FILE_DIR, filename)):\n",
    "#             continue\n",
    "#         else:\n",
    "#             os.rename(os.path.join(NPZ_FILE_DIR, filename), os.path.join(subdir, filename))\n",
    "    \n"
   ]
  },
  {
   "cell_type": "code",
   "execution_count": 6,
   "metadata": {},
   "outputs": [
    {
     "data": {
      "text/plain": [
       "array([15])"
      ]
     },
     "execution_count": 6,
     "metadata": {},
     "output_type": "execute_result"
    }
   ],
   "source": [
    "pd.read_csv('/scratch-a/connorsteph/poincare_datasets/paper_repo_test/datasets/SAM/main_lookup.csv').dim_pts.unique()"
   ]
  },
  {
   "cell_type": "code",
   "execution_count": 2,
   "metadata": {},
   "outputs": [
    {
     "data": {
      "text/plain": [
       "Index(['mu', 't_lim', 'dim_pts', 'fname', 'logfile'], dtype='object')"
      ]
     },
     "execution_count": 2,
     "metadata": {},
     "output_type": "execute_result"
    }
   ],
   "source": [
    "lookup_df.columns"
   ]
  },
  {
   "cell_type": "code",
   "execution_count": null,
   "metadata": {},
   "outputs": [],
   "source": []
  }
 ],
 "metadata": {
  "kernelspec": {
   "display_name": "DL_PSI_env",
   "language": "python",
   "name": "python3"
  },
  "language_info": {
   "codemirror_mode": {
    "name": "ipython",
    "version": 3
   },
   "file_extension": ".py",
   "mimetype": "text/x-python",
   "name": "python",
   "nbconvert_exporter": "python",
   "pygments_lexer": "ipython3",
   "version": "3.10.9"
  },
  "orig_nbformat": 4
 },
 "nbformat": 4,
 "nbformat_minor": 2
}
