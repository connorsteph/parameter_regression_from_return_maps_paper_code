{
 "cells": [
  {
   "cell_type": "code",
   "execution_count": 11,
   "metadata": {},
   "outputs": [],
   "source": [
    "import numpy as np\n",
    "import pandas as pd\n",
    "import seaborn as sns\n",
    "import yaml\n",
    "\n",
    "from pathlib import Path\n",
    "\n",
    "from matplotlib import pyplot as plt\n",
    "import torch\n",
    "from torch import nn\n",
    "from torch.utils.data import DataLoader\n",
    "from torchvision import transforms\n",
    "import pytorch_lightning as pl\n",
    "import torch.nn.functional as F\n",
    "import torchmetrics\n",
    "\n",
    "import jax\n",
    "import jax.numpy as jnp\n",
    "from jax import jit\n",
    "\n",
    "from pytorch_lightning.strategies import DDPStrategy\n",
    "\n",
    "from paper_utils import LightningResNet18\n",
    "\n",
    "import configparser\n",
    "from paper_utils import PoincareDataModule, HenonMapPoincareDataModule"
   ]
  },
  {
   "cell_type": "code",
   "execution_count": 2,
   "metadata": {},
   "outputs": [
    {
     "name": "stdout",
     "output_type": "stream",
     "text": [
      "coords=[0, 2]\n"
     ]
    }
   ],
   "source": [
    "isBool = lambda x: x.lower() == \"true\"\n",
    "converters = {'IntList': lambda x: [int(i.strip()) for i in x.strip(\" [](){}\").split(',')],\n",
    "    'FloatList': lambda x: [float(i.strip()) for i in x.strip(\" [](){}\").split(',')],\n",
    "    'BoolList': lambda x: [isBool(i.strip()) for i in x.strip(\" [](){}\").split(',')]}\n",
    "config = configparser.ConfigParser(converters=converters)"
   ]
  },
  {
   "cell_type": "code",
   "execution_count": 29,
   "metadata": {},
   "outputs": [
    {
     "name": "stdout",
     "output_type": "stream",
     "text": [
      "coords=[0, 2]\n"
     ]
    }
   ],
   "source": [
    "config.read(\"./configs/model_training/SAM_study.cfg\")\n",
    "# LOGGING params\n",
    "# -------------------------------------------------------\n",
    "log_dir = config.get('LOGGING', 'log_dir')\n",
    "name = config.get('LOGGING', 'name')\n",
    "# -------------------------------------------------------\n",
    "# HARDWARE params  \n",
    "# -------------------------------------------------------  \n",
    "num_workers = config.getint('HARDWARE', 'num_workers')\n",
    "auto_select_gpus = config.getboolean('HARDWARE', 'auto_select_gpus')\n",
    "num_gpus = config.getint('HARDWARE', 'num_gpus')\n",
    "\n",
    "if auto_select_gpus==True:\n",
    "    devices = num_gpus\n",
    "else:\n",
    "    devices = config.getIntList(\"HARDWARE\", \"devices\")\n",
    "if devices > 1:\n",
    "    num_workers = 0\n",
    "    strategy = DDPStrategy(find_unused_parameters=False)\n",
    "else:\n",
    "    num_workers = num_workers\n",
    "    strategy = None\n",
    "# -------------------------------------------------------\n",
    "# DATAMODULE params\n",
    "# -------------------------------------------------------\n",
    "data_dir = config.get('DATAMODULE', 'data_dir')\n",
    "main_lookup_dir = config.get('DATAMODULE', 'main_lookup_dir')\n",
    "local_lookup_dir = config.get('DATAMODULE', 'local_lookup_dir')\n",
    "batch_size = config.getint('DATAMODULE', 'batch_size')\n",
    "img_widths = config.getIntList('DATAMODULE', 'img_width')\n",
    "alpha = config.getfloat('DATAMODULE', 'alpha')\n",
    "min_samples = config.getint('DATAMODULE', 'min_samples', fallback=0)\n",
    "max_samples = config.getint('DATAMODULE', 'max_samples', fallback=-1)\n",
    "min_traj_len = config.getint('DATAMODULE', 'min_traj_len')\n",
    "max_traj_len = config.getint('DATAMODULE', 'max_traj_len')\n",
    "num_params = config.getint('DATAMODULE', 'num_params')\n",
    "if (\"param_min\" in config['DATAMODULE']) or (\"param_max\" in config['DATAMODULE']):\n",
    "    if not ((\"param_min\" in config['DATAMODULE']) and (\"param_max\" in config['DATAMODULE'])):\n",
    "        raise ValueError(\"Must specify both param_min and param_max, or neither\")\n",
    "    else:\n",
    "        param_min = np.array(config.getFloatList('DATAMODULE', 'param_min'))\n",
    "        param_max = np.array(config.getFloatList('DATAMODULE', 'param_max'))\n",
    "        assert(num_params == len(param_min) == len(param_max))\n",
    "else:\n",
    "    param_min = None\n",
    "    param_max = None\n",
    "\n",
    "coords = config.getIntList('DATAMODULE', 'coords', fallback=[0,1])\n",
    "print(f\"{coords=}\")\n",
    "x_range = config.getFloatList('DATAMODULE', 'x_range', fallback=None)\n",
    "y_range = config.getFloatList('DATAMODULE', 'y_range', fallback=None)"
   ]
  },
  {
   "cell_type": "code",
   "execution_count": 31,
   "metadata": {},
   "outputs": [
    {
     "name": "stderr",
     "output_type": "stream",
     "text": [
      "Auto select gpus: [0]\n",
      "GPU available: True (cuda), used: True\n",
      "TPU available: False, using: 0 TPU cores\n",
      "IPU available: False, using: 0 IPUs\n",
      "HPU available: False, using: 0 HPUs\n"
     ]
    },
    {
     "name": "stdout",
     "output_type": "stream",
     "text": [
      "Loading dataset:\n",
      "Using data augmentation\n",
      "Training set...\n",
      "Validation set...\n",
      "Test set...\n",
      "Dataset loaded.\n",
      "Loading dataset:\n",
      "Training set...\n",
      "Validation set...\n",
      "Test set...\n",
      "Dataset loaded.\n"
     ]
    }
   ],
   "source": [
    "trainer = pl.Trainer(\n",
    "    logger=False,\n",
    "    accelerator='gpu',\n",
    "    devices=devices,\n",
    "    num_sanity_val_steps=0,\n",
    "    deterministic=True,\n",
    "    auto_select_gpus=auto_select_gpus,\n",
    "    enable_progress_bar=False\n",
    ")\n",
    "\n",
    "assert(len(img_widths) == 1)\n",
    "\n",
    "sample_frac = 1.\n",
    "\n",
    "aug_datamodule = PoincareDataModule(\n",
    "                    local_lookup_dir=local_lookup_dir,\n",
    "                    data_dir=data_dir,\n",
    "                    coords=coords,\n",
    "                    sample_frac=sample_frac,\n",
    "                    img_width=img_widths[0],\n",
    "                    batch_size=batch_size, \n",
    "                    x_range=x_range,\n",
    "                    y_range=y_range,\n",
    "                    alpha=alpha,\n",
    "                    min_samples=min_samples,\n",
    "                    max_samples=max_samples,\n",
    "                    min_traj_len=min_traj_len,\n",
    "                    max_traj_len=max_traj_len,\n",
    "                    num_workers=num_workers,\n",
    "                    verbose=True,\n",
    "                    randomize=True,\n",
    "                )\n",
    "                    \n",
    "non_aug_datamodule = PoincareDataModule(\n",
    "                local_lookup_dir=local_lookup_dir,\n",
    "                data_dir=data_dir,\n",
    "                coords=coords,\n",
    "                sample_frac=sample_frac,\n",
    "                img_width=img_widths[0],\n",
    "                batch_size=batch_size, \n",
    "                x_range=x_range,\n",
    "                y_range=y_range,\n",
    "                alpha=alpha,\n",
    "                min_samples=min_samples,\n",
    "                max_samples=max_samples,\n",
    "                min_traj_len=min_traj_len,\n",
    "                max_traj_len=max_traj_len,\n",
    "                num_workers=num_workers,\n",
    "                verbose=True,\n",
    "                randomize=False,\n",
    "            )"
   ]
  },
  {
   "cell_type": "code",
   "execution_count": 32,
   "metadata": {},
   "outputs": [
    {
     "name": "stdout",
     "output_type": "stream",
     "text": [
      "num_train=3840, randomized=False\n"
     ]
    },
    {
     "name": "stderr",
     "output_type": "stream",
     "text": [
      "/home/connorsteph/miniconda3/envs/DL_PSI_env/lib/python3.10/site-packages/torchvision/models/_utils.py:223: UserWarning: Arguments other than a weight enum or `None` for 'weights' are deprecated since 0.13 and may be removed in the future. The current behavior is equivalent to passing `weights=None`.\n",
      "  warnings.warn(msg)\n",
      "LOCAL_RANK: 0 - CUDA_VISIBLE_DEVICES: [0,1,2,3,4,5,6,7,8,9]\n",
      "LOCAL_RANK: 0 - CUDA_VISIBLE_DEVICES: [0,1,2,3,4,5,6,7,8,9]\n",
      "LOCAL_RANK: 0 - CUDA_VISIBLE_DEVICES: [0,1,2,3,4,5,6,7,8,9]\n",
      "LOCAL_RANK: 0 - CUDA_VISIBLE_DEVICES: [0,1,2,3,4,5,6,7,8,9]\n",
      "LOCAL_RANK: 0 - CUDA_VISIBLE_DEVICES: [0,1,2,3,4,5,6,7,8,9]\n"
     ]
    },
    {
     "name": "stdout",
     "output_type": "stream",
     "text": [
      "num_train=3840, randomized=True\n"
     ]
    },
    {
     "name": "stderr",
     "output_type": "stream",
     "text": [
      "LOCAL_RANK: 0 - CUDA_VISIBLE_DEVICES: [0,1,2,3,4,5,6,7,8,9]\n",
      "LOCAL_RANK: 0 - CUDA_VISIBLE_DEVICES: [0,1,2,3,4,5,6,7,8,9]\n",
      "LOCAL_RANK: 0 - CUDA_VISIBLE_DEVICES: [0,1,2,3,4,5,6,7,8,9]\n",
      "LOCAL_RANK: 0 - CUDA_VISIBLE_DEVICES: [0,1,2,3,4,5,6,7,8,9]\n",
      "LOCAL_RANK: 0 - CUDA_VISIBLE_DEVICES: [0,1,2,3,4,5,6,7,8,9]\n"
     ]
    },
    {
     "name": "stdout",
     "output_type": "stream",
     "text": [
      "num_train=1920, randomized=False\n"
     ]
    },
    {
     "name": "stderr",
     "output_type": "stream",
     "text": [
      "LOCAL_RANK: 0 - CUDA_VISIBLE_DEVICES: [0,1,2,3,4,5,6,7,8,9]\n",
      "LOCAL_RANK: 0 - CUDA_VISIBLE_DEVICES: [0,1,2,3,4,5,6,7,8,9]\n",
      "LOCAL_RANK: 0 - CUDA_VISIBLE_DEVICES: [0,1,2,3,4,5,6,7,8,9]\n",
      "LOCAL_RANK: 0 - CUDA_VISIBLE_DEVICES: [0,1,2,3,4,5,6,7,8,9]\n",
      "LOCAL_RANK: 0 - CUDA_VISIBLE_DEVICES: [0,1,2,3,4,5,6,7,8,9]\n"
     ]
    },
    {
     "name": "stdout",
     "output_type": "stream",
     "text": [
      "num_train=1920, randomized=True\n"
     ]
    },
    {
     "name": "stderr",
     "output_type": "stream",
     "text": [
      "LOCAL_RANK: 0 - CUDA_VISIBLE_DEVICES: [0,1,2,3,4,5,6,7,8,9]\n",
      "LOCAL_RANK: 0 - CUDA_VISIBLE_DEVICES: [0,1,2,3,4,5,6,7,8,9]\n",
      "LOCAL_RANK: 0 - CUDA_VISIBLE_DEVICES: [0,1,2,3,4,5,6,7,8,9]\n",
      "LOCAL_RANK: 0 - CUDA_VISIBLE_DEVICES: [0,1,2,3,4,5,6,7,8,9]\n",
      "LOCAL_RANK: 0 - CUDA_VISIBLE_DEVICES: [0,1,2,3,4,5,6,7,8,9]\n"
     ]
    },
    {
     "name": "stdout",
     "output_type": "stream",
     "text": [
      "num_train=960, randomized=False\n"
     ]
    },
    {
     "name": "stderr",
     "output_type": "stream",
     "text": [
      "LOCAL_RANK: 0 - CUDA_VISIBLE_DEVICES: [0,1,2,3,4,5,6,7,8,9]\n",
      "LOCAL_RANK: 0 - CUDA_VISIBLE_DEVICES: [0,1,2,3,4,5,6,7,8,9]\n",
      "LOCAL_RANK: 0 - CUDA_VISIBLE_DEVICES: [0,1,2,3,4,5,6,7,8,9]\n",
      "LOCAL_RANK: 0 - CUDA_VISIBLE_DEVICES: [0,1,2,3,4,5,6,7,8,9]\n",
      "LOCAL_RANK: 0 - CUDA_VISIBLE_DEVICES: [0,1,2,3,4,5,6,7,8,9]\n"
     ]
    },
    {
     "name": "stdout",
     "output_type": "stream",
     "text": [
      "num_train=960, randomized=True\n"
     ]
    },
    {
     "name": "stderr",
     "output_type": "stream",
     "text": [
      "LOCAL_RANK: 0 - CUDA_VISIBLE_DEVICES: [0,1,2,3,4,5,6,7,8,9]\n",
      "LOCAL_RANK: 0 - CUDA_VISIBLE_DEVICES: [0,1,2,3,4,5,6,7,8,9]\n",
      "LOCAL_RANK: 0 - CUDA_VISIBLE_DEVICES: [0,1,2,3,4,5,6,7,8,9]\n",
      "LOCAL_RANK: 0 - CUDA_VISIBLE_DEVICES: [0,1,2,3,4,5,6,7,8,9]\n",
      "LOCAL_RANK: 0 - CUDA_VISIBLE_DEVICES: [0,1,2,3,4,5,6,7,8,9]\n"
     ]
    },
    {
     "name": "stdout",
     "output_type": "stream",
     "text": [
      "num_train=240, randomized=False\n"
     ]
    },
    {
     "name": "stderr",
     "output_type": "stream",
     "text": [
      "LOCAL_RANK: 0 - CUDA_VISIBLE_DEVICES: [0,1,2,3,4,5,6,7,8,9]\n",
      "LOCAL_RANK: 0 - CUDA_VISIBLE_DEVICES: [0,1,2,3,4,5,6,7,8,9]\n",
      "LOCAL_RANK: 0 - CUDA_VISIBLE_DEVICES: [0,1,2,3,4,5,6,7,8,9]\n",
      "LOCAL_RANK: 0 - CUDA_VISIBLE_DEVICES: [0,1,2,3,4,5,6,7,8,9]\n",
      "LOCAL_RANK: 0 - CUDA_VISIBLE_DEVICES: [0,1,2,3,4,5,6,7,8,9]\n"
     ]
    },
    {
     "name": "stdout",
     "output_type": "stream",
     "text": [
      "num_train=240, randomized=True\n"
     ]
    },
    {
     "name": "stderr",
     "output_type": "stream",
     "text": [
      "LOCAL_RANK: 0 - CUDA_VISIBLE_DEVICES: [0,1,2,3,4,5,6,7,8,9]\n",
      "LOCAL_RANK: 0 - CUDA_VISIBLE_DEVICES: [0,1,2,3,4,5,6,7,8,9]\n",
      "LOCAL_RANK: 0 - CUDA_VISIBLE_DEVICES: [0,1,2,3,4,5,6,7,8,9]\n",
      "LOCAL_RANK: 0 - CUDA_VISIBLE_DEVICES: [0,1,2,3,4,5,6,7,8,9]\n",
      "LOCAL_RANK: 0 - CUDA_VISIBLE_DEVICES: [0,1,2,3,4,5,6,7,8,9]\n"
     ]
    },
    {
     "name": "stdout",
     "output_type": "stream",
     "text": [
      "num_train=120, randomized=False\n"
     ]
    },
    {
     "name": "stderr",
     "output_type": "stream",
     "text": [
      "LOCAL_RANK: 0 - CUDA_VISIBLE_DEVICES: [0,1,2,3,4,5,6,7,8,9]\n",
      "LOCAL_RANK: 0 - CUDA_VISIBLE_DEVICES: [0,1,2,3,4,5,6,7,8,9]\n",
      "LOCAL_RANK: 0 - CUDA_VISIBLE_DEVICES: [0,1,2,3,4,5,6,7,8,9]\n",
      "LOCAL_RANK: 0 - CUDA_VISIBLE_DEVICES: [0,1,2,3,4,5,6,7,8,9]\n",
      "LOCAL_RANK: 0 - CUDA_VISIBLE_DEVICES: [0,1,2,3,4,5,6,7,8,9]\n"
     ]
    },
    {
     "name": "stdout",
     "output_type": "stream",
     "text": [
      "num_train=120, randomized=True\n"
     ]
    },
    {
     "name": "stderr",
     "output_type": "stream",
     "text": [
      "LOCAL_RANK: 0 - CUDA_VISIBLE_DEVICES: [0,1,2,3,4,5,6,7,8,9]\n",
      "LOCAL_RANK: 0 - CUDA_VISIBLE_DEVICES: [0,1,2,3,4,5,6,7,8,9]\n",
      "LOCAL_RANK: 0 - CUDA_VISIBLE_DEVICES: [0,1,2,3,4,5,6,7,8,9]\n",
      "LOCAL_RANK: 0 - CUDA_VISIBLE_DEVICES: [0,1,2,3,4,5,6,7,8,9]\n",
      "LOCAL_RANK: 0 - CUDA_VISIBLE_DEVICES: [0,1,2,3,4,5,6,7,8,9]\n"
     ]
    },
    {
     "name": "stdout",
     "output_type": "stream",
     "text": [
      "num_train=480, randomized=False\n"
     ]
    },
    {
     "name": "stderr",
     "output_type": "stream",
     "text": [
      "LOCAL_RANK: 0 - CUDA_VISIBLE_DEVICES: [0,1,2,3,4,5,6,7,8,9]\n",
      "LOCAL_RANK: 0 - CUDA_VISIBLE_DEVICES: [0,1,2,3,4,5,6,7,8,9]\n",
      "LOCAL_RANK: 0 - CUDA_VISIBLE_DEVICES: [0,1,2,3,4,5,6,7,8,9]\n",
      "LOCAL_RANK: 0 - CUDA_VISIBLE_DEVICES: [0,1,2,3,4,5,6,7,8,9]\n",
      "LOCAL_RANK: 0 - CUDA_VISIBLE_DEVICES: [0,1,2,3,4,5,6,7,8,9]\n"
     ]
    },
    {
     "name": "stdout",
     "output_type": "stream",
     "text": [
      "num_train=480, randomized=True\n"
     ]
    },
    {
     "name": "stderr",
     "output_type": "stream",
     "text": [
      "LOCAL_RANK: 0 - CUDA_VISIBLE_DEVICES: [0,1,2,3,4,5,6,7,8,9]\n",
      "LOCAL_RANK: 0 - CUDA_VISIBLE_DEVICES: [0,1,2,3,4,5,6,7,8,9]\n",
      "LOCAL_RANK: 0 - CUDA_VISIBLE_DEVICES: [0,1,2,3,4,5,6,7,8,9]\n",
      "LOCAL_RANK: 0 - CUDA_VISIBLE_DEVICES: [0,1,2,3,4,5,6,7,8,9]\n",
      "LOCAL_RANK: 0 - CUDA_VISIBLE_DEVICES: [0,1,2,3,4,5,6,7,8,9]\n"
     ]
    }
   ],
   "source": [
    "df_list = []\n",
    "p = Path(log_dir)\n",
    "for i in p.rglob('*.yaml'):\n",
    "    # parse file to get number of training samples used, and whether or not it was randomized\n",
    "    hparam_dict = yaml.safe_load(i.open())\n",
    "    num_train = hparam_dict['num_train']\n",
    "    randomized = hparam_dict['randomize']\n",
    "    print(f\"{num_train=}, {randomized=}\")\n",
    "    for child in i.parent.iterdir():\n",
    "        if child.is_dir():\n",
    "            for model_ckpt in child.iterdir():\n",
    "                model = LightningResNet18.load_from_checkpoint(model_ckpt.resolve())\n",
    "                datamodule = aug_datamodule if randomized else non_aug_datamodule\n",
    "                test_loss = trainer.test(model=model, dataloaders=datamodule.test_dataloader(), verbose=False)[0][\"val_mse\"]\n",
    "                df_list.append({\"loss\": test_loss, \"num_train\": num_train, \"Train Augmentation\": randomized})\n",
    "SAM_df = pd.DataFrame(df_list)"
   ]
  },
  {
   "cell_type": "code",
   "execution_count": 33,
   "metadata": {},
   "outputs": [
    {
     "data": {
      "text/plain": [
       "Text(0, 0.5, 'Test MSE')"
      ]
     },
     "execution_count": 33,
     "metadata": {},
     "output_type": "execute_result"
    },
    {
     "data": {
      "image/png": "[encoded data removed]",
      "text/plain": [
       "<Figure size 1000x500 with 1 Axes>"
      ]
     },
     "metadata": {},
     "output_type": "display_data"
    }
   ],
   "source": [
    "sns.set_theme(context=\"paper\", style=\"ticks\", font_scale=1.5)\n",
    "fig, ax = plt.subplots(1,1, figsize=(10,5))\n",
    "ax.set_yscale(\"log\")\n",
    "# df = pd.read_csv(\"sample_efficiency_trials.csv\")\n",
    "sns.barplot(data=SAM_df, x=\"num_train\", y=\"loss\", hue=\"Train Augmentation\")\n",
    "\n",
    "ax.set_xlabel(\"Training Samples\")\n",
    "ax.set_ylabel(f\"Test MSE\")\n",
    "# plt.savefig(\"efficiency_study_test_MSE.pdf\", bbox_inches=\"tight\")"
   ]
  },
  {
   "cell_type": "code",
   "execution_count": 22,
   "metadata": {},
   "outputs": [
    {
     "name": "stdout",
     "output_type": "stream",
     "text": [
      "coords=[0, 1]\n"
     ]
    }
   ],
   "source": [
    "# config.read(\"./configs/model_training/henon_map_study.cfg\")\n",
    "# # LOGGING params\n",
    "# # -------------------------------------------------------\n",
    "# log_dir = config.get('LOGGING', 'log_dir')\n",
    "# name = config.get('LOGGING', 'name')\n",
    "# # -------------------------------------------------------\n",
    "# # HARDWARE params  \n",
    "# # -------------------------------------------------------  \n",
    "# num_workers = config.getint('HARDWARE', 'num_workers')\n",
    "# auto_select_gpus = config.getboolean('HARDWARE', 'auto_select_gpus')\n",
    "# num_gpus = config.getint('HARDWARE', 'num_gpus')\n",
    "\n",
    "# if auto_select_gpus==True:\n",
    "#     devices = num_gpus\n",
    "# else:\n",
    "#     devices = config.getIntList(\"HARDWARE\", \"devices\")\n",
    "# if devices > 1:\n",
    "#     num_workers = 0\n",
    "#     strategy = DDPStrategy(find_unused_parameters=False)\n",
    "# else:\n",
    "#     num_workers = num_workers\n",
    "#     strategy = None\n",
    "# # -------------------------------------------------------\n",
    "# # DATAMODULE params\n",
    "# # -------------------------------------------------------\n",
    "# data_dir = config.get('DATAMODULE', 'data_dir')\n",
    "# main_lookup_dir = config.get('DATAMODULE', 'main_lookup_dir')\n",
    "# local_lookup_dir = config.get('DATAMODULE', 'local_lookup_dir')\n",
    "# batch_size = config.getint('DATAMODULE', 'batch_size')\n",
    "# img_widths = config.getIntList('DATAMODULE', 'img_width')\n",
    "# alpha = config.getfloat('DATAMODULE', 'alpha')\n",
    "# min_samples = config.getint('DATAMODULE', 'min_samples', fallback=0)\n",
    "# max_samples = config.getint('DATAMODULE', 'max_samples', fallback=-1)\n",
    "# min_traj_len = config.getint('DATAMODULE', 'min_traj_len')\n",
    "# max_traj_len = config.getint('DATAMODULE', 'max_traj_len')\n",
    "# a_range = config.getFloatList('DATAMODULE', 'a_range')\n",
    "# b_range = config.getFloatList('DATAMODULE', 'b_range')\n",
    "\n",
    "# coords = config.getIntList('DATAMODULE', 'coords', fallback=[0,1])\n",
    "# print(f\"{coords=}\")\n",
    "# x_range = config.getFloatList('DATAMODULE', 'x_range', fallback=None)\n",
    "# y_range = config.getFloatList('DATAMODULE', 'y_range', fallback=None)"
   ]
  },
  {
   "cell_type": "code",
   "execution_count": 36,
   "metadata": {},
   "outputs": [],
   "source": [
    "# trainer = pl.Trainer(\n",
    "#     logger=False,\n",
    "#     accelerator='gpu',\n",
    "#     devices=devices,\n",
    "#     num_sanity_val_steps=0,\n",
    "#     deterministic=True,\n",
    "#     auto_select_gpus=auto_select_gpus,\n",
    "#     enable_progress_bar=False\n",
    "# )\n",
    "\n",
    "# assert(len(img_widths) == 1)\n",
    "\n",
    "# aug_datamodule = HenonMapPoincareDataModule(\n",
    "#                     num_samples=1000,\n",
    "#                     batch_size=32, \n",
    "#                     a_range=a_range,\n",
    "#                     b_range=b_range,\n",
    "#                     x_range=x_range,\n",
    "#                     y_range=y_range,\n",
    "#                     img_width=128,\n",
    "#                     alpha=.7,\n",
    "#                     min_samples=10,\n",
    "#                     max_samples=225,\n",
    "#                     min_traj_len=min_traj_len,\n",
    "#                     num_iters=max_traj_len,\n",
    "#                     num_workers=num_workers,\n",
    "#                     verbose=False,\n",
    "#                     randomize=True)\n",
    "                    \n",
    "# non_aug_datamodule = HenonMapPoincareDataModule(\n",
    "#                 num_samples=1000,\n",
    "#                 batch_size=32, \n",
    "#                 a_range=a_range,\n",
    "#                 b_range=b_range,\n",
    "#                 x_range=x_range,\n",
    "#                 y_range=y_range,\n",
    "#                 img_width=128,\n",
    "#                 alpha=.7,\n",
    "#                 min_samples=min_samples,\n",
    "#                 max_samples=max_samples,\n",
    "#                 min_traj_len=min_traj_len,\n",
    "#                 num_iters=max_traj_len,\n",
    "#                 num_workers=num_workers,\n",
    "#                 verbose=False,\n",
    "#                 randomize=False)"
   ]
  },
  {
   "cell_type": "code",
   "execution_count": null,
   "metadata": {},
   "outputs": [],
   "source": [
    "# df_list = []\n",
    "# p = Path(log_dir)\n",
    "# for i in p.rglob('*.yaml'):\n",
    "#     # parse file to get number of training samples used, and whether or not it was randomized\n",
    "#     hparam_dict = yaml.safe_load(i.open())\n",
    "#     num_train = hparam_dict['num_train']\n",
    "#     randomized = hparam_dict['randomize']\n",
    "#     print(f\"{num_train=}, {randomized=}\")\n",
    "#     for child in i.parent.iterdir():\n",
    "#         if child.is_dir():\n",
    "#             for model_ckpt in child.iterdir():\n",
    "#                 model = LightningResNet18.load_from_checkpoint(model_ckpt.resolve())\n",
    "#                 datamodule = aug_datamodule if randomized else non_aug_datamodule\n",
    "#                 test_loss = trainer.test(model=model, dataloaders=datamodule.test_dataloader(), verbose=False)[0][\"val_mse\"]\n",
    "#                 df_list.append({\"loss\": test_loss, \"num_train\": num_train, \"Train Augmentation\": randomized})\n",
    "# henon_df = pd.DataFrame(df_list)"
   ]
  },
  {
   "cell_type": "code",
   "execution_count": null,
   "metadata": {},
   "outputs": [],
   "source": [
    "# sns.set_theme(context=\"paper\", style=\"ticks\", font_scale=1.5)\n",
    "# fig, ax = plt.subplots(1,1, figsize=(10,5))\n",
    "# ax.set_yscale(\"log\")\n",
    "# # df = pd.read_csv(\"sample_efficiency_trials.csv\")\n",
    "# sns.barplot(data=henon_df, x=\"num_train\", y=\"loss\", hue=\"Train Augmentation\")\n",
    "\n",
    "# ax.set_xlabel(\"Training Samples\")\n",
    "# ax.set_ylabel(f\"Test MSE\")\n",
    "# # plt.savefig(\"efficiency_study_test_MSE.pdf\", bbox_inches=\"tight\")"
   ]
  }
 ],
 "metadata": {
  "kernelspec": {
   "display_name": "DL_PSI_env",
   "language": "python",
   "name": "python3"
  },
  "language_info": {
   "codemirror_mode": {
    "name": "ipython",
    "version": 3
   },
   "file_extension": ".py",
   "mimetype": "text/x-python",
   "name": "python",
   "nbconvert_exporter": "python",
   "pygments_lexer": "ipython3",
   "version": "3.10.9"
  },
  "orig_nbformat": 4
 },
 "nbformat": 4,
 "nbformat_minor": 2
}
